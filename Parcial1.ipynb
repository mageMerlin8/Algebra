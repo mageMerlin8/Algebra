{
 "cells": [
  {
   "cell_type": "code",
   "execution_count": 41,
   "metadata": {},
   "outputs": [],
   "source": [
    "import random as rand\n",
    "def perteneceAConjunto(num):\n",
    "    if(type(num) == type(1.0) or\n",
    "        type(num) == type(1)):\n",
    "        if(num == 1): return False\n",
    "        else: return True\n",
    "    else:\n",
    "        return False\n",
    "def mult(a, b):\n",
    "    if(not perteneceAConjunto(a)):\n",
    "        print(str(a) + ' no pertenece al conjunto')\n",
    "    elif(not perteneceAConjunto(b)):\n",
    "        print(str(b) + ' no pertenece al conjunto')\n",
    "    else:\n",
    "        return a + b + a * b    \n",
    "def inversoMult(a):\n",
    "    if(not perteneceAConjunto(a)):\n",
    "        print(str(a) + ' no pertenece al conjunto')\n",
    "    else:\n",
    "        return -a/(a+1)    \n",
    "def neutroMult():return 0"
   ]
  },
  {
   "cell_type": "markdown",
   "metadata": {},
   "source": [
    "## Se checa que el neutro escogido (0) funcione como neutro:"
   ]
  },
  {
   "cell_type": "code",
   "execution_count": 42,
   "metadata": {},
   "outputs": [
    {
     "name": "stdout",
     "output_type": "stream",
     "text": [
      "Se escogió el número: 429.33730787821366\n",
      "El número aleatorio es parte del conjunto: True\n",
      "0 * a ?= a: True\n",
      "a * 0 ?= a: True\n"
     ]
    }
   ],
   "source": [
    "\n",
    "numAlt = rand.random() * 1000\n",
    "print('Se escogió el número: ' + str(numAlt))\n",
    "print('El número aleatorio es parte del conjunto: ' + str(perteneceAConjunto(numAlt)))\n",
    "print('0 * a ?= a: ' + str(mult(neutroMult(), numAlt) == numAlt))\n",
    "print('a * 0 ?= a: ' + str(mult(numAlt, neutroMult()) == numAlt))"
   ]
  },
  {
   "cell_type": "markdown",
   "metadata": {},
   "source": [
    "## Se checa que la funcion de inverso lleve al neutro"
   ]
  },
  {
   "cell_type": "code",
   "execution_count": 43,
   "metadata": {},
   "outputs": [
    {
     "name": "stdout",
     "output_type": "stream",
     "text": [
      "Se escogió el número: 670.3923453706568\n",
      "El número aleatorio es parte del conjunto: True\n",
      "a * -a ?= 0: True\n",
      "-a * a ?= 0: True\n"
     ]
    }
   ],
   "source": [
    "numAlt = rand.random() * 1000\n",
    "print('Se escogió el número: ' + str(numAlt))\n",
    "print('El número aleatorio es parte del conjunto: ' + str(perteneceAConjunto(numAlt)))\n",
    "print('a * -a ?= 0: ' + str(mult(numAlt, inversoMult(numAlt)) == neutroMult()))\n",
    "print('-a * a ?= 0: ' + str(mult(inversoMult(numAlt), numAlt) == neutroMult()))"
   ]
  },
  {
   "cell_type": "markdown",
   "metadata": {},
   "source": [
    "\\begin{equation}\n",
    "\\text{Se tiene la equación:}\\\\\n",
    "\\ 3 * x * 7 = 233 / 7\\\\\n",
    "\\text{Entonces:}\\\\\n",
    "\\ x = 3^{-1} * (233 / 7) * 7^{-1}\\\\\n",
    "\\end{equation} "
   ]
  },
  {
   "cell_type": "code",
   "execution_count": 44,
   "metadata": {},
   "outputs": [
    {
     "name": "stdout",
     "output_type": "stream",
     "text": [
      "7^-1 = -0.875\n",
      "7^-1 = -0.75\n",
      "3^-1 * (233 / 7) * 7^-1 = 0.07142857142857117\n"
     ]
    }
   ],
   "source": [
    "invSiete = inversoMult(7.0)\n",
    "print('7^-1 = ' + str(invSiete))\n",
    "invTres = inversoMult(3.0)\n",
    "print('7^-1 = ' + str(invTres))\n",
    "resp = mult(mult(invTres, 233/7.0), invSiete)\n",
    "print('3^-1 * (233 / 7) * 7^-1 = ' + str(resp))"
   ]
  },
  {
   "cell_type": "code",
   "execution_count": 35,
   "metadata": {},
   "outputs": [
    {
     "name": "stdout",
     "output_type": "stream",
     "text": [
      "a) True\n",
      "b) True\n",
      "c) True\n",
      "d) False\n"
     ]
    }
   ],
   "source": [
    "\"\"\"En mi papel tengo:a) 3^-1 = -3/4\n",
    "                     b) 7^-1 = -7/8 \n",
    "                     c) 3^-1 * (233 / 7) = (-3/4) + (233/7) - 699/28\n",
    "                     d) 3^-1 * (233 / 7) * 7^-1 = ((-3/4) + (233/7) - 699/28) - (7/8) + (7/8)((-3/4) + (233/7) - 699/28)) \"\"\"\n",
    "#a\n",
    "print('a) ' + str(invTres == (-3/4)))\n",
    "#b\n",
    "print('b) ' + str(invSiete == (-7/8)))\n",
    "#c\n",
    "print('c) ' + str(mult(invTres, 233/7.0) == (-3/4 + 233/7 - 699/28)))\n",
    "#d\n",
    "print('d) ' + str(mult(mult(invTres, 233/7.0), invSiete) == (-3/4 + 233/7 - 699/28) - 7/8 + (7/8)*(-3/4 + 233/7 - 699/28)) )"
   ]
  }
 ],
 "metadata": {
  "kernelspec": {
   "display_name": "Python 3",
   "language": "python",
   "name": "python3"
  },
  "language_info": {
   "codemirror_mode": {
    "name": "ipython",
    "version": 3
   },
   "file_extension": ".py",
   "mimetype": "text/x-python",
   "name": "python",
   "nbconvert_exporter": "python",
   "pygments_lexer": "ipython3",
   "version": "3.6.6"
  }
 },
 "nbformat": 4,
 "nbformat_minor": 2
}
