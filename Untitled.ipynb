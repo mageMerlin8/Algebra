{
 "cells": [
  {
   "cell_type": "markdown",
   "metadata": {},
   "source": [
    "nivel: 0 dato:12\n",
    "Nodo Derecho  : \n",
    "    nivel: 1 dato:20\n",
    "    \n",
    "    Nodo Izquierdo: \n",
    "        nivel: 1 dato:6\n",
    "            Nodo Derecho  : \n",
    "                nivel: 2 dato:7\n",
    "                \n",
    "                    Nodo Izquierdo:\n",
    "                            nivel: 2 dato:5\n",
    "                                    Nodo Izquierdo: \n",
    "                                            nivel: 3 dato:4\\n"
   ]
  },
  {
   "cell_type": "code",
   "execution_count": null,
   "metadata": {},
   "outputs": [],
   "source": []
  }
 ],
 "metadata": {
  "kernelspec": {
   "display_name": "Python 3",
   "language": "python",
   "name": "python3"
  },
  "language_info": {
   "codemirror_mode": {
    "name": "ipython",
    "version": 3
   },
   "file_extension": ".py",
   "mimetype": "text/x-python",
   "name": "python",
   "nbconvert_exporter": "python",
   "pygments_lexer": "ipython3",
   "version": "3.6.6"
  }
 },
 "nbformat": 4,
 "nbformat_minor": 2
}
